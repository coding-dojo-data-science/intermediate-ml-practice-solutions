{
 "cells": [
  {
   "cell_type": "markdown",
   "metadata": {},
   "source": [
    "<div id=\"todo_description\"><table style=\"background-color: rgb(13,32,76); border-radius: 10px\">\n",
    "\t<thead>\n",
    "\t\t<tr>\n",
    "\t\t\t<th colspan=\"2\" style=\"border: hidden; vertical-align: top;\" width=\"15%\"><img src=\"https://assets.codingdojo.com/boomyeah2015/codingdojo/curriculum/content/chapter/1674755226__Icons_400px_Practice Assignment.png\">\n",
    "\t\t\t</th>\n",
    "\t\t\t<th style=\"border: hidden;\">\n",
    "\t\t\t\t<h1 style=\"color: white;\">Feature Selection (Practice)</h1>\n",
    "\t\t\t</th>\n",
    "\t\t</tr>\n",
    "\t</thead>\n",
    "</table>\n",
    "\n",
    "<p>This practice assignment will reinforce important learning objectives from the previous lesson(s), and allow you to take on more challenging core assignments, preparing you for graduation.<br></p>\n",
    "\n",
    "\n",
    "\n",
    "<p>Practice and tinker with this assignment until you're comfortable performing each of the tasks. Then, be sure to submit your output as described in the steps below.</p>\n",
    "\n",
    "\n",
    "\n",
    "<hr>\n",
    "\n",
    "\n",
    "\n",
    "<h1><span style=\"background-color: initial; font-family: Gotham-Rounded-Bold;\">Feature Selection (Practice)</span><br></h1><p>​This assignment will give you a chance to practice Feature Selection techniques. We will use the dataset we introduced in the PCA for the visualization lesson:&nbsp;W&nbsp;<a href=\"https://drive.google.com/file/d/1hLcF8DVr9l1h3dd9dAJJmzYeCWXF3XrM/view?usp=drive_link\" target=\"_blank\">modified version of the Mice Protein Expression data</a>&nbsp;(from&nbsp;<a href=\"https://www.kaggle.com/datasets/ruslankl/mice-protein-expression\" target=\"_blank\">Kaggle</a>). Details on the modifications made can be found in&nbsp;<a href=\"https://docs.google.com/document/d/1CIVpm-clzpMTMKPUWepWEkNelCnOV_X2-V8W0DBocSg/edit?usp=sharing\" target=\"_blank\">this google doc</a>.</p><p>1) Use \"Treatment\" for the target and drop ​'Type of Mouse,' 'Training,' 'class,' and 'MouseID.'</p><p>2) Create a preprocessing pipeline to impute missing values with 0 and scale the data.</p><p>3) Train test split</p><p>4) Evaluate the performance of a default random forest using all 77 features.</p><p>5) ​ Use the SequentialFeature Selector with a simple DecisionTreeClassifier to select about half of the features (n_features_to_select = 39)</p><p>6) Evaluate the performance of the default random forest using 39 features selected in the previous step.</p><p>7)&nbsp;Use the SequentialFeature Selector with a simple DecisionTreeClassifier&nbsp; to select about a quarter of the features (n_features_to_select = 19)</p><p>8) Evaluate the performance of the default random forest using 19 features selected in the previous step.<br></p><p>​9) In a markdown cell, describe the pros and cons of using 77, 39, or 19 features for this model.</p><p><br></p>\n",
    "        \n",
    "</div>"
   ]
  },
  {
   "cell_type": "markdown",
   "metadata": {},
   "source": [
    "# SOLUTION "
   ]
  },
  {
   "cell_type": "markdown",
   "metadata": {},
   "source": [
    "- TO DO!"
   ]
  },
  {
   "cell_type": "markdown",
   "metadata": {},
   "source": []
  }
 ],
 "metadata": {
  "language_info": {
   "name": "python"
  },
  "orig_nbformat": 4
 },
 "nbformat": 4,
 "nbformat_minor": 2
}
