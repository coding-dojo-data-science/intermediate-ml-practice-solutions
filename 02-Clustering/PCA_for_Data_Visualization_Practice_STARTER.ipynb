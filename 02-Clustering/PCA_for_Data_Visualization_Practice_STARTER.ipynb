{
  "nbformat": 4,
  "nbformat_minor": 0,
  "metadata": {
    "colab": {
      "provenance": [],
      "include_colab_link": true
    },
    "kernelspec": {
      "name": "python3",
      "display_name": "Python 3"
    },
    "language_info": {
      "name": "python"
    }
  },
  "cells": [
    {
      "cell_type": "markdown",
      "metadata": {
        "id": "view-in-github",
        "colab_type": "text"
      },
      "source": [
        "<a href=\"https://colab.research.google.com/github/coding-dojo-data-science/intermediate-ml-practice-solutions/blob/main/02-Clustering/PCA_for_Data_Visualization_Practice_STARTER.ipynb\" target=\"_parent\"><img src=\"https://colab.research.google.com/assets/colab-badge.svg\" alt=\"Open In Colab\"/></a>"
      ]
    },
    {
      "cell_type": "markdown",
      "source": [
        "<table style=\"background-color: rgb(13,32,76); border-radius: 10px\">\n",
        "\t<thead>\n",
        "\t\t<tr>\n",
        "\t\t\t<th colspan=\"2\" style=\"border: hidden; vertical-align: top;\" width=\"15%\"><img src=\"https://assets.codingdojo.com/boomyeah2015/codingdojo/curriculum/content/chapter/1674755226__Icons_400px_Practice Assignment.png\">\n",
        "\t\t\t</th>\n",
        "\t\t\t<th style=\"border: hidden;\">\n",
        "\t\t\t\t<h1 style=\"color: white;\">PCA to Visualize Clusters (Practice)</h1>\n",
        "\t\t\t</th>\n",
        "\t\t</tr>\n",
        "\t</thead>\n",
        "</table>\n",
        "<p>This practice assignment will reinforce important learning objectives from the previous lesson(s) and allow you to take on more challenging core assignments, preparing you for graduation.<br></p>\n",
        "<p>Practice and tinker with this assignment until you're comfortable performing each task. Then, be sure to submit your output as described in the steps below.</p>\n",
        "<hr>\n"
      ],
      "metadata": {
        "id": "H20oIObcEZrx"
      }
    },
    {
      "cell_type": "markdown",
      "source": [
        "\n",
        "## Assignment\n",
        "When clusters are made from more than two features, it is very difficult to visualize the resulting clusters. While 3D plots can be made with Plotly, visualizing more than three features is nearly impossible.\n",
        "\n",
        "An interesting solution to this is to use PCA to reduce the dimensionality for the purpose of visualizing the clusters.\n",
        "\n",
        "In this assignment, you will combine PCA and clustering to a credit card customer data set and visualize those clusters in both two-dimensional and three-dimensional scatter plots.\n",
        "\n",
        "Specifically, you will:\n",
        "\n",
        "- Load the data [found here](https://drive.google.com/file/d/1IlQ_OZ4f_S5mdkGXumJNYEWaA6ioeDrr/view?usp=sharing)\n",
        "- Perform basic data cleaning\n",
        "    - Drop \"Unnamed 0\" and \"Customer Id\"\n",
        "    - Fill in missing values\n",
        "- Use the remaining eight features of the dataset to perform KMeans clustering.\n",
        "    - Be sure to scale the data prior to clustering.\n",
        "    - Determine a value for K (number of clusters) using the elbow method and/or silhouette score.\n",
        "- Use PCA to define two principal components.\n",
        "- Visualize the 2 PCs using a scatter plot where points are colored by cluster. While the features (PCs) will no longer be meaningful, you can see how well the model clustered the data.\n",
        "- Use PCA to define three principal components.\n",
        "- Visualize the 3 PCs using Plotly's 3d scatterplot, where points are colored by cluster.\n",
        "\n",
        "[Documentation for scatter_3d from Plotly Express](https://plotly.com/python-api-reference/generated/plotly.express.scatter_3d)"
      ],
      "metadata": {
        "id": "KrMREevWGmSD"
      }
    },
    {
      "cell_type": "markdown",
      "source": [
        "# 1. Import Necessary Libraries"
      ],
      "metadata": {
        "id": "pamSkKqbYhKt"
      }
    },
    {
      "cell_type": "code",
      "execution_count": null,
      "metadata": {
        "id": "waNCJ14DSE2o"
      },
      "outputs": [],
      "source": [
        "import pandas as pd\n",
        "import matplotlib.pyplot as plt\n",
        "import plotly.express as px\n",
        "import numpy as np\n",
        "\n",
        "from sklearn.decomposition import PCA\n",
        "from sklearn.cluster import KMeans\n",
        "from sklearn.preprocessing import StandardScaler\n",
        "from sklearn.metrics import silhouette_score"
      ]
    },
    {
      "cell_type": "markdown",
      "source": [
        "# 2. Load Data"
      ],
      "metadata": {
        "id": "2xZp3ckHYlYU"
      }
    },
    {
      "cell_type": "code",
      "source": [
        "df = pd.read_csv('https://docs.google.com/spreadsheets/d/e/2PACX-1vQfsaRE3Pq4HcnCgIb5hgszzYNcKQBoypmZm2zW9Q9hU9-tWdtP8qxBBsiUWMFKzG66unPOdi-lfKdM/pub?gid=794640114&single=true&output=csv')\n",
        "\n",
        "df.head()"
      ],
      "metadata": {
        "id": "jtZC7pgOS6Qk",
        "outputId": "ed55a1d9-f3ec-44d7-935b-14b1586bdde6",
        "colab": {
          "base_uri": "https://localhost:8080/",
          "height": 206
        }
      },
      "execution_count": null,
      "outputs": [
        {
          "output_type": "execute_result",
          "data": {
            "text/plain": [
              "   Unnamed: 0  Customer Id  Age  Edu  Years Employed  Income  Card Debt  \\\n",
              "0           0            1   41    2               6      19      0.124   \n",
              "1           1            2   47    1              26     100      4.582   \n",
              "2           2            3   33    2              10      57      6.111   \n",
              "3           3            4   29    2               4      19      0.681   \n",
              "4           4            5   47    1              31     253      9.308   \n",
              "\n",
              "   Other Debt  Defaulted  DebtIncomeRatio  \n",
              "0       1.073        0.0              6.3  \n",
              "1       8.218        0.0             12.8  \n",
              "2       5.802        1.0             20.9  \n",
              "3       0.516        0.0              6.3  \n",
              "4       8.908        0.0              7.2  "
            ],
            "text/html": [
              "\n",
              "  <div id=\"df-3e6850c0-941d-44db-b039-782d46efe852\">\n",
              "    <div class=\"colab-df-container\">\n",
              "      <div>\n",
              "<style scoped>\n",
              "    .dataframe tbody tr th:only-of-type {\n",
              "        vertical-align: middle;\n",
              "    }\n",
              "\n",
              "    .dataframe tbody tr th {\n",
              "        vertical-align: top;\n",
              "    }\n",
              "\n",
              "    .dataframe thead th {\n",
              "        text-align: right;\n",
              "    }\n",
              "</style>\n",
              "<table border=\"1\" class=\"dataframe\">\n",
              "  <thead>\n",
              "    <tr style=\"text-align: right;\">\n",
              "      <th></th>\n",
              "      <th>Unnamed: 0</th>\n",
              "      <th>Customer Id</th>\n",
              "      <th>Age</th>\n",
              "      <th>Edu</th>\n",
              "      <th>Years Employed</th>\n",
              "      <th>Income</th>\n",
              "      <th>Card Debt</th>\n",
              "      <th>Other Debt</th>\n",
              "      <th>Defaulted</th>\n",
              "      <th>DebtIncomeRatio</th>\n",
              "    </tr>\n",
              "  </thead>\n",
              "  <tbody>\n",
              "    <tr>\n",
              "      <th>0</th>\n",
              "      <td>0</td>\n",
              "      <td>1</td>\n",
              "      <td>41</td>\n",
              "      <td>2</td>\n",
              "      <td>6</td>\n",
              "      <td>19</td>\n",
              "      <td>0.124</td>\n",
              "      <td>1.073</td>\n",
              "      <td>0.0</td>\n",
              "      <td>6.3</td>\n",
              "    </tr>\n",
              "    <tr>\n",
              "      <th>1</th>\n",
              "      <td>1</td>\n",
              "      <td>2</td>\n",
              "      <td>47</td>\n",
              "      <td>1</td>\n",
              "      <td>26</td>\n",
              "      <td>100</td>\n",
              "      <td>4.582</td>\n",
              "      <td>8.218</td>\n",
              "      <td>0.0</td>\n",
              "      <td>12.8</td>\n",
              "    </tr>\n",
              "    <tr>\n",
              "      <th>2</th>\n",
              "      <td>2</td>\n",
              "      <td>3</td>\n",
              "      <td>33</td>\n",
              "      <td>2</td>\n",
              "      <td>10</td>\n",
              "      <td>57</td>\n",
              "      <td>6.111</td>\n",
              "      <td>5.802</td>\n",
              "      <td>1.0</td>\n",
              "      <td>20.9</td>\n",
              "    </tr>\n",
              "    <tr>\n",
              "      <th>3</th>\n",
              "      <td>3</td>\n",
              "      <td>4</td>\n",
              "      <td>29</td>\n",
              "      <td>2</td>\n",
              "      <td>4</td>\n",
              "      <td>19</td>\n",
              "      <td>0.681</td>\n",
              "      <td>0.516</td>\n",
              "      <td>0.0</td>\n",
              "      <td>6.3</td>\n",
              "    </tr>\n",
              "    <tr>\n",
              "      <th>4</th>\n",
              "      <td>4</td>\n",
              "      <td>5</td>\n",
              "      <td>47</td>\n",
              "      <td>1</td>\n",
              "      <td>31</td>\n",
              "      <td>253</td>\n",
              "      <td>9.308</td>\n",
              "      <td>8.908</td>\n",
              "      <td>0.0</td>\n",
              "      <td>7.2</td>\n",
              "    </tr>\n",
              "  </tbody>\n",
              "</table>\n",
              "</div>\n",
              "      <button class=\"colab-df-convert\" onclick=\"convertToInteractive('df-3e6850c0-941d-44db-b039-782d46efe852')\"\n",
              "              title=\"Convert this dataframe to an interactive table.\"\n",
              "              style=\"display:none;\">\n",
              "        \n",
              "  <svg xmlns=\"http://www.w3.org/2000/svg\" height=\"24px\"viewBox=\"0 0 24 24\"\n",
              "       width=\"24px\">\n",
              "    <path d=\"M0 0h24v24H0V0z\" fill=\"none\"/>\n",
              "    <path d=\"M18.56 5.44l.94 2.06.94-2.06 2.06-.94-2.06-.94-.94-2.06-.94 2.06-2.06.94zm-11 1L8.5 8.5l.94-2.06 2.06-.94-2.06-.94L8.5 2.5l-.94 2.06-2.06.94zm10 10l.94 2.06.94-2.06 2.06-.94-2.06-.94-.94-2.06-.94 2.06-2.06.94z\"/><path d=\"M17.41 7.96l-1.37-1.37c-.4-.4-.92-.59-1.43-.59-.52 0-1.04.2-1.43.59L10.3 9.45l-7.72 7.72c-.78.78-.78 2.05 0 2.83L4 21.41c.39.39.9.59 1.41.59.51 0 1.02-.2 1.41-.59l7.78-7.78 2.81-2.81c.8-.78.8-2.07 0-2.86zM5.41 20L4 18.59l7.72-7.72 1.47 1.35L5.41 20z\"/>\n",
              "  </svg>\n",
              "      </button>\n",
              "      \n",
              "  <style>\n",
              "    .colab-df-container {\n",
              "      display:flex;\n",
              "      flex-wrap:wrap;\n",
              "      gap: 12px;\n",
              "    }\n",
              "\n",
              "    .colab-df-convert {\n",
              "      background-color: #E8F0FE;\n",
              "      border: none;\n",
              "      border-radius: 50%;\n",
              "      cursor: pointer;\n",
              "      display: none;\n",
              "      fill: #1967D2;\n",
              "      height: 32px;\n",
              "      padding: 0 0 0 0;\n",
              "      width: 32px;\n",
              "    }\n",
              "\n",
              "    .colab-df-convert:hover {\n",
              "      background-color: #E2EBFA;\n",
              "      box-shadow: 0px 1px 2px rgba(60, 64, 67, 0.3), 0px 1px 3px 1px rgba(60, 64, 67, 0.15);\n",
              "      fill: #174EA6;\n",
              "    }\n",
              "\n",
              "    [theme=dark] .colab-df-convert {\n",
              "      background-color: #3B4455;\n",
              "      fill: #D2E3FC;\n",
              "    }\n",
              "\n",
              "    [theme=dark] .colab-df-convert:hover {\n",
              "      background-color: #434B5C;\n",
              "      box-shadow: 0px 1px 3px 1px rgba(0, 0, 0, 0.15);\n",
              "      filter: drop-shadow(0px 1px 2px rgba(0, 0, 0, 0.3));\n",
              "      fill: #FFFFFF;\n",
              "    }\n",
              "  </style>\n",
              "\n",
              "      <script>\n",
              "        const buttonEl =\n",
              "          document.querySelector('#df-3e6850c0-941d-44db-b039-782d46efe852 button.colab-df-convert');\n",
              "        buttonEl.style.display =\n",
              "          google.colab.kernel.accessAllowed ? 'block' : 'none';\n",
              "\n",
              "        async function convertToInteractive(key) {\n",
              "          const element = document.querySelector('#df-3e6850c0-941d-44db-b039-782d46efe852');\n",
              "          const dataTable =\n",
              "            await google.colab.kernel.invokeFunction('convertToInteractive',\n",
              "                                                     [key], {});\n",
              "          if (!dataTable) return;\n",
              "\n",
              "          const docLinkHtml = 'Like what you see? Visit the ' +\n",
              "            '<a target=\"_blank\" href=https://colab.research.google.com/notebooks/data_table.ipynb>data table notebook</a>'\n",
              "            + ' to learn more about interactive tables.';\n",
              "          element.innerHTML = '';\n",
              "          dataTable['output_type'] = 'display_data';\n",
              "          await google.colab.output.renderOutput(dataTable, element);\n",
              "          const docLink = document.createElement('div');\n",
              "          docLink.innerHTML = docLinkHtml;\n",
              "          element.appendChild(docLink);\n",
              "        }\n",
              "      </script>\n",
              "    </div>\n",
              "  </div>\n",
              "  "
            ]
          },
          "metadata": {},
          "execution_count": 2
        }
      ]
    },
    {
      "cell_type": "markdown",
      "source": [
        "# 3. Drop Unnecessary Columns"
      ],
      "metadata": {
        "id": "lNTp3Qn1WcA1"
      }
    },
    {
      "cell_type": "code",
      "source": [],
      "metadata": {
        "id": "wC1FH_ecS9Cl"
      },
      "execution_count": null,
      "outputs": []
    },
    {
      "cell_type": "markdown",
      "source": [
        "# 4. EDA and Cleaning"
      ],
      "metadata": {
        "id": "Efk34vA6Y13u"
      }
    },
    {
      "cell_type": "code",
      "source": [],
      "metadata": {
        "id": "lxbbptubTGkL"
      },
      "execution_count": null,
      "outputs": []
    },
    {
      "cell_type": "code",
      "source": [],
      "metadata": {
        "id": "2a3bFRM5TKTz"
      },
      "execution_count": null,
      "outputs": []
    },
    {
      "cell_type": "markdown",
      "source": [
        "# 5. Scale Data"
      ],
      "metadata": {
        "id": "tm9FBjiZY6l9"
      }
    },
    {
      "cell_type": "code",
      "source": [],
      "metadata": {
        "id": "hMnikckdTVzL"
      },
      "execution_count": null,
      "outputs": []
    },
    {
      "cell_type": "markdown",
      "source": [
        "# 6. Tune a KMeans Model and Cluster the Scaled Data Using All Features"
      ],
      "metadata": {
        "id": "CU4Zi41HY9EU"
      }
    },
    {
      "cell_type": "code",
      "source": [],
      "metadata": {
        "id": "Ts24NMj2UlvK"
      },
      "execution_count": null,
      "outputs": []
    },
    {
      "cell_type": "code",
      "source": [],
      "metadata": {
        "id": "7MjLAr67VJkk"
      },
      "execution_count": null,
      "outputs": []
    },
    {
      "cell_type": "markdown",
      "source": [
        "# 7. Transform the Scaled Data with PCA"
      ],
      "metadata": {
        "id": "PyI88SVRZNK_"
      }
    },
    {
      "cell_type": "code",
      "source": [],
      "metadata": {
        "id": "oP10c615Vm0d"
      },
      "execution_count": null,
      "outputs": []
    },
    {
      "cell_type": "markdown",
      "source": [
        "# 8. Plot the Clusters\n",
        "\n",
        "- The x axis should be the first principal component, you can extract this from the PCA array with `pca_data[:, 0]`\n",
        "\n",
        "- The y axis should be the second principal component, you can extract this from the PCA array with `pca_data[:, 1]`\n",
        "\n",
        "- The `c` argument should be the labels from the kmeans model."
      ],
      "metadata": {
        "id": "Ubfzz4_rZWRd"
      }
    },
    {
      "cell_type": "code",
      "source": [],
      "metadata": {
        "id": "h37sbylFVzfc"
      },
      "execution_count": null,
      "outputs": []
    },
    {
      "cell_type": "markdown",
      "source": [
        "# 9. Plot 3 components with Plotly Express\n",
        "\n",
        "x, y, and z should be the first 3 components and color should be the KMeans model clusters.\n",
        "\n",
        "[scatter_3d documentation](https://plotly.com/python-api-reference/generated/plotly.express.scatter_3d)"
      ],
      "metadata": {
        "id": "Rh3A_by2Z_rl"
      }
    },
    {
      "cell_type": "code",
      "source": [],
      "metadata": {
        "id": "l0AUq7QbW20U"
      },
      "execution_count": null,
      "outputs": []
    }
  ]
}